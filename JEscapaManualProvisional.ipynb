{
 "cells": [
  {
   "cell_type": "markdown",
   "metadata": {},
   "source": [
    "# *Escapa, con la llave*. \n",
    "## Organización del código, en *clases*.\n",
    "\n",
    "\n",
    "\n",
    "**Este es el primer *Notebook* asociado a la primera práctica obligatoria**.\n",
    "\n",
    "\n",
    "***TENED EN CUENTA** que habrá un segundo Notebook en el que se consigue que juegue solo usando A**\n",
    "\n",
    "----------------------------------------\n",
    "\n",
    "En esta primera parte de la práctica se va a estructurar el código de las funciones básicas (*Notebook* anterior) en clases, para así poder dejar el código listo para su adaptación al modo automático, usando *A\\** (cosa que se hará en las siguientes sesiones).\n",
    "\n",
    "------------------\n",
    "\n"
   ]
  },
  {
   "cell_type": "markdown",
   "metadata": {},
   "source": [
    "Para este *Notebook*, el profesor proporciona un conjunto de clases que el alumno no tiene que modificar, pero puede hacerlo si lo desea.\n",
    "\n",
    "El profesor proporciona:\n",
    "1. Este *Notebook*, con las explicaciones y el ***main*** \n",
    "2. La *clase* **UIJEscapaVPedro**, la cual implementará los controles (botones, desplegables, y la representación visual del juego)\n",
    "3. La *clase* **MediadorVPedro** que pone en contacto los componentes gráficos entre sí, y utiliza los métodos de la clase **State**, **Level**, **Model**, y la clase **LoaderEscapaVPedro**\n",
    "4. **State**: Funciones para la construcción y consulta de estados (jugadores, cajas ...) <--> Modulo **Escapa** (**Escapa.py**).\n",
    "5. **Level**: Funciones para la construcción y consulta de niveles (tablero, destinos) <--> Modulo **Escapa** (**Escapa.py**)."
   ]
  },
  {
   "cell_type": "markdown",
   "metadata": {},
   "source": [
    "## Descripción de las clases\n",
    "\n",
    "La representación del estado y de los niveles visto en el notebook de funciones básicas se ha organizado en clases.\n",
    "\n",
    "La clase **State**: \n",
    "- tiene un constructor que recibe el jugador, la(s) piedra(s) y la(s) casilla(s) de agua. \n",
    "- tiene un método **get_piedra** que devuelve las piedras\n",
    "- tiene un método **get_agua** que devuelve las coordenadas con agua\n",
    "- tiene un método **get_aspa**, que devuelve las coordenadas que marcan la dirección de disparo del enemigo\n",
    "- tiene un método **get_llave**, que devuelve las coordenadas de la casilla con la llave.\n",
    "\n",
    "- tiene un método **\\_\\_str\\_\\_** que permite obtener la representación en modo texto del objeto y un método **\\_\\_repr\\_\\_** equivalente, para usarlo dentro de colecciones.\n",
    "\n",
    "- Tiene también un método que permite determinar si dos estados son iguales y también otro para calcular su *hash*.\n",
    "\n",
    "La clase **Level**:\n",
    "- tiene un constructor que recibe el tablero y los destinos\n",
    "- tiene un método **get_tablero** que devuelve el tablero, y las paredes.\n",
    "- tiene un método **get_destino** que devuelve el destino al que se debe dirigir el jugador\n",
    "- tiene un método **get_enemigo** que devuelve las coordenadas en las que se encuentra el enemigo\n",
    "- tiene un método **\\_\\_str\\_\\_** que permite obtener la representación en modo texto del objeto, así como un método **\\_\\_repr\\_\\_** equivalente\n",
    "\n",
    "**LoaderEscapaVPedro**, **UIJEscapaVPedro**, **MediadorVPedro**"
   ]
  },
  {
   "cell_type": "code",
   "execution_count": 1,
   "metadata": {},
   "outputs": [],
   "source": [
    "# Ejemplo de cómo se carga un nivel\n",
    "import os\n",
    "from LoaderEscapaConBooleanoLlaveVPedro import Loader\n",
    "    \n",
    "l = Loader()\n",
    "l.get_all_levels()\n",
    "# os.sep es el separador de ficheros (\"/\" en linux \"\\\" en windows)\n",
    "level_txt = open(\".\"+os.sep+\"levels\"+os.sep+\"level_medio_VpedroJEscapa.txt\",'r',encoding=\"utf-8\").read()\n",
    "\n",
    "level, state = l.load_level(level_txt)\n"
   ]
  },
  {
   "cell_type": "code",
   "execution_count": 2,
   "metadata": {},
   "outputs": [
    {
     "name": "stdout",
     "output_type": "stream",
     "text": [
      "#######\n",
      "#!  #*#\n",
      "#x + -#\n",
      "#x   @#\n",
      "#x¡   #\n",
      "#######\n"
     ]
    }
   ],
   "source": [
    "# Imprimimos el nivel para asegurarnos que todo es correcto.\n",
    "print(level_txt)"
   ]
  },
  {
   "cell_type": "code",
   "execution_count": 3,
   "metadata": {},
   "outputs": [
    {
     "data": {
      "text/plain": [
       "[(0, 0, 0, 0, 0, 0, 0),\n",
       " (0, 0, 1, 1, 0, 1, 0),\n",
       " (0, 1, 1, 1, 1, 1, 0),\n",
       " (0, 1, 1, 1, 1, 1, 0),\n",
       " (0, 1, 1, 1, 1, 1, 0),\n",
       " (0, 0, 0, 0, 0, 0, 0)]"
      ]
     },
     "execution_count": 3,
     "metadata": {},
     "output_type": "execute_result"
    }
   ],
   "source": [
    "# Obtenemos la repreentación numérica del Tablero\n",
    "level.get_tablero()"
   ]
  },
  {
   "cell_type": "code",
   "execution_count": 4,
   "metadata": {},
   "outputs": [
    {
     "data": {
      "application/vnd.jupyter.widget-view+json": {
       "model_id": "c132caafbcd14aaca7d54df8f1d8bb1b",
       "version_major": 2,
       "version_minor": 0
      },
      "text/plain": [
       "HTML(value='<style> img.game {width: 50px !important; height: 50px !important;}</style><table><tr><td><img cla…"
      ]
     },
     "metadata": {},
     "output_type": "display_data"
    }
   ],
   "source": [
    "# Ejemplo de visualización de un nivel\n",
    "from UIJEscapaVPedro import gui\n",
    "from ipywidgets import HTML\n",
    "ui = gui()\n",
    "htmlStr = ui.get_html(level, state)\n",
    "HTML(value = htmlStr)"
   ]
  },
  {
   "cell_type": "markdown",
   "metadata": {},
   "source": [
    "El alumno debe completar la implementación de los métodos de este notebook:\n",
    "\n",
    "\n",
    "## Funciones a implementar por el alumno.\n",
    "\n",
    "Nota: En el notebook anterior se usaban variables globales. En este notebook los valores están encapsulados en objetos. Pero la funcionalidad es la misma.\n",
    "\n",
    "- move(level,state,mov): Recibe un nivel, un estado y un movimiento. **Devuelve un nuevo estado** resultante de aplicar el movimiento. Esta función puede reutilizar las funciones del *Notebook* anterior.\n",
    "\n",
    "- is_goal(state): Recibe un estado. Devuelve True si los dos jugadores son None (los dos jugadores han llegado a la meta y es un estado final)\n",
    "\n",
    "**NOTA - IMPORTANTE**: No debes borrar **# Cargar Celda** en cada una de las celdas en que aparezca."
   ]
  },
  {
   "cell_type": "code",
   "execution_count": 5,
   "metadata": {},
   "outputs": [],
   "source": [
    "# Cargar Celda\n",
    "# No tocar esta primera linea\n",
    "\n",
    "# Completa las funciones de esta celda y pruebalas en celdas posteriores\n",
    "from Escapa import Level, State\n",
    "\n",
    "        \n",
    "def is_valid(tablero,coord):\n",
    "    \"\"\" Comprueba si una celda es válida (no se sale del tablero y es \"visitable\").    \n",
    "    \n",
    "    Parámetros\n",
    "    ----------\n",
    "    coord -- coordenadas de la casilla a analizar\n",
    "    \n",
    "    Devolución\n",
    "    --------\n",
    "    Devuelve True si se cumple el objetivo\n",
    "    \"\"\"\n",
    "    # en verdad x e y estan ivertidas x = fila y = columna\n",
    "    x,y = 0,1\n",
    "    if (coord[x] >= 0) and (coord[x] <= len(tablero)) and  (coord[y] >= 0) and (coord[y] <=len(tablero[0])):\n",
    "        if (tablero[coord[x]][coord[y]] == 1):\n",
    "            return True\n",
    "        else:\n",
    "            print(\"No hay suelo\")\n",
    "            return False\n",
    "    else:\n",
    "        print(\"Fuera de rango\")\n",
    "        return False\n",
    "    \n",
    "\n",
    "def is_piedra_free(tablero, player, piedra, coord):\n",
    "    \"\"\" Comprueba si una casilla es válida y si es posible poner el jugador en esas coordenadas (no existe piedra)\n",
    "    \n",
    "    Parámetros\n",
    "    ----------\n",
    "    coord -- coordenadas de la casilla a analizar\n",
    "    \n",
    "    Devolución\n",
    "    --------\n",
    "    Devuelve True si la casilla es válida y no existe piedra.\n",
    "    \"\"\" \n",
    "    if is_valid(tablero,coord):\n",
    "        if tuple(coord) not in piedra:\n",
    "            return True\n",
    "        else:\n",
    "            return False\n",
    "    else:\n",
    "        return False\n",
    "\n",
    "\n",
    "def is_player_free(tablero, player, piedra, agua, coord):\n",
    "    \"\"\" Un paso más allá de \"is_piedra_free\". En este caso, se ha de comprobar si tampoco es una casilla de agua.\n",
    "    \n",
    "    \n",
    "    Parámetros\n",
    "    ----------\n",
    "    coord -- coordenadas de la casilla a analizar\n",
    "    \n",
    "    Devolución\n",
    "    --------\n",
    "    Devuelve True si la casilla es válida y no existe piedra o agua.\n",
    "    \"\"\"   \n",
    "    if is_valid(tablero,coord):\n",
    "        if tuple(coord) not in agua and is_piedra_free(tablero, player, piedra, coord):\n",
    "            return True\n",
    "        else:\n",
    "            return False\n",
    "    else:\n",
    "        return False\n"
   ]
  },
  {
   "cell_type": "code",
   "execution_count": 6,
   "metadata": {},
   "outputs": [],
   "source": [
    "# Cargar Celda\n",
    "def move_player(tablero, player, enemigo, piedra, agua, aspa, llave, destino, mov):\n",
    "    \n",
    "    \"\"\" Función que permite el movimiento del jugador. Debe tener en cuenta \"is_player_free\", y si hay \"destino\" y llave\".\n",
    "    \n",
    "    Devolución\n",
    "    --------\n",
    "    Devuelve un \"Estado\" (que será función del tipo de movimiento permitido)\n",
    "    \"\"\"  \n",
    "    \n",
    "    # ?modificar los paramentros por un estado?\n",
    "    coord = [(player[0] + mov[0]),(player[1]+mov[1])]\n",
    "    llaves = set(llave)\n",
    "\n",
    "    if is_player_free(tablero, player, piedra, agua, coord):\n",
    "        if tuple(coord) in llave:\n",
    "            llave = True\n",
    "            tablero[coord[0]][coord[1]]           \n",
    "            llaves.remove(coord)\n",
    "        elif coord == destino:\n",
    "            coord = None\n",
    "        # añadir si la casilla es de enemigo        \n",
    "            \n",
    "    print(\"Moviendo a \"+str(coord))\n",
    "    return State(coord,piedra,agua,aspa,llave)\n",
    "        "
   ]
  },
  {
   "cell_type": "code",
   "execution_count": 7,
   "metadata": {},
   "outputs": [],
   "source": [
    "\n",
    "def move_piedra(tablero, player, piedra, agua, aspa, llave, mov):\n",
    "    \n",
    "    jugador_actual = player    \n",
    "        \n",
    "    nueva_piedra = set(piedra)\n",
    "    nueva_agua = set(agua)\n",
    "    nueva_llave = set(llave)\n",
    "    nueva_aspa = set(aspa)\n",
    "        \n",
    "    nuevaCoord = list(map(lambda x,y: x+y,jugador_actual,mov))\n",
    "    nuevaCoord2 = list(map(lambda x,y: x+y,nuevaCoord,mov))\n",
    "    \n",
    "    \n",
    "    if tuple(nuevaCoord) in piedra and is_piedra_free(tablero, player, piedra, nuevaCoord2):\n",
    "        nueva_piedra.remove(tuple(nuevaCoord))\n",
    "        \n",
    "        if tuple(nuevaCoord2) in agua:\n",
    "            nueva_agua.remove(tuple(nuevaCoord2))\n",
    "        \n",
    "        \n",
    "        elif tuple(nuevaCoord2) in aspa:\n",
    "            nueva_aspa.remove(tuple(nuevaCoord2))\n",
    "            nueva_piedra.add(tuple(nuevaCoord2))\n",
    "            \n",
    "            \n",
    "            y,x = nuevaCoord2\n",
    "            alto,ancho = len(tablero),len(tablero[0])\n",
    "                        \n",
    "            \n",
    "            for i in range(y+1,alto-1,1):\n",
    "                            \n",
    "                nuevaCoord3 = i,x\n",
    "                nueva_aspa.remove(tuple(nuevaCoord3))\n",
    "                                \n",
    "                \n",
    "        else:\n",
    "            nueva_piedra.add(tuple(nuevaCoord2))               \n",
    "    \n",
    "    \n",
    "    return State(player,nueva_piedra,nueva_agua,nueva_aspa,llave)    \n",
    "    \n"
   ]
  },
  {
   "cell_type": "code",
   "execution_count": 8,
   "metadata": {},
   "outputs": [],
   "source": [
    "# Cargar Celda\n",
    "def move(level,state,mov):\n",
    "    \"\"\" Mueve al jugador: [1,0] (Abajo), [-1,0] (Arriba), [0,1] (Derecha), [0,-1] (Izquierda)\n",
    "    \n",
    "    Parámetros\n",
    "    ----------\n",
    "    level -- Un \"nivel\"\n",
    "    State -- Un \"estado\"\n",
    "    mov -- Dirección del movimiento\n",
    "    \n",
    "    Devolución\n",
    "    --------\n",
    "    Devuelve un nuevo estado, o el mismo, si el movimiento indicado no es posible.\n",
    "    \"\"\"\n",
    "        \n",
    "    piedra = state.get_piedra()\n",
    "    agua = state.get_agua()\n",
    "    aspa=state.get_aspa()\n",
    "    llave = state.get_llave()\n",
    "    \n",
    "    player = state.get_player()\n",
    "    \n",
    "    \n",
    "    # (1) tablero = ...\n",
    "    tablero = level.get_tablero()\n",
    "    # (2) destino = ...\n",
    "    destino = level.get_destino()\n",
    "    # (3) enemigo = ...\n",
    "    enemigo = level.get_enemigo()\n",
    "        \n",
    "    e1= move_piedra(tablero,player,piedra,agua,aspa,llave,mov)\n",
    "    e2 = move_player(tablero,player,enemigo,e1.get_piedra(),e1.get_agua(),e1.get_aspa(),llave,destino,mov)\n",
    "    \n",
    "    return e2"
   ]
  },
  {
   "cell_type": "code",
   "execution_count": 9,
   "metadata": {},
   "outputs": [],
   "source": [
    "# Cargar Celda\n",
    "def is_goal(state):\n",
    "    \"\"\" Determinación de si \"es el objetivo\" \n",
    "    \n",
    "    Parámetros\n",
    "    ----------\n",
    "    state -- Un \"estado\"\n",
    "    \n",
    "    Devolución\n",
    "    --------\n",
    "    Devuelve \"True\" si el \"estado\" es un \"objetivo\"\n",
    "    \"\"\"\n",
    "    player = state.get_player()\n",
    "    return player is None\n",
    "    \n",
    "    \n",
    "    \n",
    "    "
   ]
  },
  {
   "cell_type": "code",
   "execution_count": 10,
   "metadata": {},
   "outputs": [
    {
     "data": {
      "application/vnd.jupyter.widget-view+json": {
       "model_id": "9f15ea85efa245cbb6b4359623836b9c",
       "version_major": 2,
       "version_minor": 0
      },
      "text/plain": [
       "HTML(value='<style> img.game {width: 50px !important; height: 50px !important;}</style><table><tr><td><img cla…"
      ]
     },
     "metadata": {},
     "output_type": "display_data"
    }
   ],
   "source": [
    "HTML(value = htmlStr)"
   ]
  },
  {
   "cell_type": "code",
   "execution_count": 11,
   "metadata": {},
   "outputs": [
    {
     "name": "stdout",
     "output_type": "stream",
     "text": [
      "[3, 5]{(2, 3)}{(2, 5)}{(3, 1), (4, 1), (2, 1)}{(4, 2)}\n"
     ]
    }
   ],
   "source": [
    "s1 = state\n",
    "print(s1)"
   ]
  },
  {
   "cell_type": "code",
   "execution_count": 12,
   "metadata": {},
   "outputs": [
    {
     "name": "stdout",
     "output_type": "stream",
     "text": [
      "[3, 5]{(2, 3)}{(2, 5)}{(3, 1), (4, 1), (2, 1)}{(4, 2)}\n",
      "Moviendo a [4, 5]\n",
      "[4, 5]{(2, 3)}{(2, 5)}{(3, 1), (4, 1), (2, 1)}{(4, 2)}\n"
     ]
    },
    {
     "data": {
      "application/vnd.jupyter.widget-view+json": {
       "model_id": "545451268bd34d55808deb83cde3a4d3",
       "version_major": 2,
       "version_minor": 0
      },
      "text/plain": [
       "HTML(value='<style> img.game {width: 50px !important; height: 50px !important;}</style><table><tr><td><img cla…"
      ]
     },
     "metadata": {},
     "output_type": "display_data"
    }
   ],
   "source": [
    "from UIJEscapaVPedro import gui\n",
    "from ipywidgets import HTML\n",
    "ui = gui()\n",
    "print(s1)\n",
    "s2 = move(level,s1,[1,0])\n",
    "print(s2)\n",
    "\n",
    "\n",
    "htmlStr = ui.get_html(level, s2)\n",
    "HTML(value = htmlStr)"
   ]
  },
  {
   "cell_type": "code",
   "execution_count": 13,
   "metadata": {},
   "outputs": [
    {
     "name": "stdout",
     "output_type": "stream",
     "text": [
      "Moviendo a [3, 5]\n"
     ]
    },
    {
     "data": {
      "application/vnd.jupyter.widget-view+json": {
       "model_id": "59aec32e645441a195a9f3fc8b939e75",
       "version_major": 2,
       "version_minor": 0
      },
      "text/plain": [
       "HTML(value='<style> img.game {width: 50px !important; height: 50px !important;}</style><table><tr><td><img cla…"
      ]
     },
     "metadata": {},
     "output_type": "display_data"
    }
   ],
   "source": [
    "# En las celdas que aparecen a continuación, vamos a aplicar una serie de movimientos \"manuales\" individuales para asegurarnos\n",
    "# que todo es correcto.\n",
    "\n",
    "s3 = move(level,s2,[-1,0])\n",
    "\n",
    "htmlStr = ui.get_html(level, s3)\n",
    "HTML(value = htmlStr)"
   ]
  },
  {
   "cell_type": "code",
   "execution_count": 14,
   "metadata": {},
   "outputs": [
    {
     "name": "stdout",
     "output_type": "stream",
     "text": [
      "Moviendo a [3, 4]\n"
     ]
    },
    {
     "data": {
      "application/vnd.jupyter.widget-view+json": {
       "model_id": "9e1cb82bd7f3400480908a175a95e864",
       "version_major": 2,
       "version_minor": 0
      },
      "text/plain": [
       "HTML(value='<style> img.game {width: 50px !important; height: 50px !important;}</style><table><tr><td><img cla…"
      ]
     },
     "metadata": {},
     "output_type": "display_data"
    }
   ],
   "source": [
    "s4 = move(level,s3,[0,-1])\n",
    "\n",
    "htmlStr = ui.get_html(level, s4)\n",
    "HTML(value = htmlStr)"
   ]
  },
  {
   "cell_type": "code",
   "execution_count": 15,
   "metadata": {},
   "outputs": [
    {
     "name": "stdout",
     "output_type": "stream",
     "text": [
      "Moviendo a [3, 3]\n"
     ]
    },
    {
     "data": {
      "application/vnd.jupyter.widget-view+json": {
       "model_id": "bad22057ef5a4d1fb6e0bb3cb40f1181",
       "version_major": 2,
       "version_minor": 0
      },
      "text/plain": [
       "HTML(value='<style> img.game {width: 50px !important; height: 50px !important;}</style><table><tr><td><img cla…"
      ]
     },
     "metadata": {},
     "output_type": "display_data"
    }
   ],
   "source": [
    "s5 = move(level,s4,[0,-1])\n",
    "\n",
    "htmlStr = ui.get_html(level, s5)\n",
    "HTML(value = htmlStr)"
   ]
  },
  {
   "cell_type": "markdown",
   "metadata": {},
   "source": [
    "Una vez hayas implementado y probado las funciones, trata de ejecutar el juego.\n",
    "\n",
    "El **Mediador** es la clase que sirve de enganche entre las clases de interfaz y la funcionalidad. Leerá las celdas que empiezan por \"# Cargar Celda\", cargará esas funciones dinámicamente, y las usará para mover y comprobar si la partida finaliza.\n",
    "\n",
    "\n",
    "# Atención\n",
    "Es código de abajo carga el *Notebook* actual, por lo que si queremos que el funcionamiento se actualize debemos guardar el *Notebook* y recargar todo el proyecto."
   ]
  },
  {
   "cell_type": "code",
   "execution_count": 16,
   "metadata": {},
   "outputs": [
    {
     "data": {
      "application/vnd.jupyter.widget-view+json": {
       "model_id": "0067d3b7ac23435b80506de795a88bdf",
       "version_major": 2,
       "version_minor": 0
      },
      "text/plain": [
       "VBox(children=(Dropdown(description='Elija nivel:', options=('level_PruebaJEscapa.txt', 'level_PruebaJEscapaTr…"
      ]
     },
     "metadata": {},
     "output_type": "display_data"
    },
    {
     "ename": "NameError",
     "evalue": "name 'move_piedra' is not defined",
     "output_type": "error",
     "traceback": [
      "\u001b[1;31m---------------------------------------------------------------------------\u001b[0m",
      "\u001b[1;31mNameError\u001b[0m                                 Traceback (most recent call last)",
      "\u001b[1;32m~\\Documents\\Curso 2020-21\\Sistemas Inteligentes\\Clase7-VersionAutomaticaDelJuegoSinSolucion\\MediadorVPedroConBooleanoLlave.py\u001b[0m in \u001b[0;36m<lambda>\u001b[1;34m(button)\u001b[0m\n\u001b[0;32m     95\u001b[0m         \u001b[0mdown\u001b[0m\u001b[1;33m.\u001b[0m\u001b[0mon_click\u001b[0m\u001b[1;33m(\u001b[0m\u001b[1;32mlambda\u001b[0m \u001b[0mbutton\u001b[0m\u001b[1;33m:\u001b[0m \u001b[0mself\u001b[0m\u001b[1;33m.\u001b[0m\u001b[0mbutton_action_event\u001b[0m\u001b[1;33m(\u001b[0m\u001b[0mbutton\u001b[0m\u001b[1;33m)\u001b[0m\u001b[1;33m)\u001b[0m\u001b[1;33m\u001b[0m\u001b[1;33m\u001b[0m\u001b[0m\n\u001b[0;32m     96\u001b[0m         \u001b[0mright\u001b[0m\u001b[1;33m.\u001b[0m\u001b[0mon_click\u001b[0m\u001b[1;33m(\u001b[0m\u001b[1;32mlambda\u001b[0m \u001b[0mbutton\u001b[0m\u001b[1;33m:\u001b[0m \u001b[0mself\u001b[0m\u001b[1;33m.\u001b[0m\u001b[0mbutton_action_event\u001b[0m\u001b[1;33m(\u001b[0m\u001b[0mbutton\u001b[0m\u001b[1;33m)\u001b[0m\u001b[1;33m)\u001b[0m\u001b[1;33m\u001b[0m\u001b[1;33m\u001b[0m\u001b[0m\n\u001b[1;32m---> 97\u001b[1;33m         \u001b[0mleft\u001b[0m\u001b[1;33m.\u001b[0m\u001b[0mon_click\u001b[0m\u001b[1;33m(\u001b[0m\u001b[1;32mlambda\u001b[0m \u001b[0mbutton\u001b[0m\u001b[1;33m:\u001b[0m \u001b[0mself\u001b[0m\u001b[1;33m.\u001b[0m\u001b[0mbutton_action_event\u001b[0m\u001b[1;33m(\u001b[0m\u001b[0mbutton\u001b[0m\u001b[1;33m)\u001b[0m\u001b[1;33m)\u001b[0m\u001b[1;33m\u001b[0m\u001b[1;33m\u001b[0m\u001b[0m\n\u001b[0m\u001b[0;32m     98\u001b[0m         \u001b[1;31m#cambia.on_click(lambda button: self.button_action_event(button))\u001b[0m\u001b[1;33m\u001b[0m\u001b[1;33m\u001b[0m\u001b[1;33m\u001b[0m\u001b[0m\n\u001b[0;32m     99\u001b[0m \u001b[1;33m\u001b[0m\u001b[0m\n",
      "\u001b[1;32m~\\Documents\\Curso 2020-21\\Sistemas Inteligentes\\Clase7-VersionAutomaticaDelJuegoSinSolucion\\MediadorVPedroConBooleanoLlave.py\u001b[0m in \u001b[0;36mbutton_action_event\u001b[1;34m(self, button)\u001b[0m\n\u001b[0;32m    149\u001b[0m         \u001b[1;32mif\u001b[0m \u001b[0mdesc\u001b[0m \u001b[1;32min\u001b[0m \u001b[1;33m[\u001b[0m\u001b[1;34m\"^\"\u001b[0m\u001b[1;33m,\u001b[0m\u001b[1;34m\"v\"\u001b[0m\u001b[1;33m,\u001b[0m\u001b[1;34m\"<\"\u001b[0m\u001b[1;33m,\u001b[0m\u001b[1;34m\">\"\u001b[0m\u001b[1;33m,\u001b[0m\u001b[1;34m\"Change\"\u001b[0m\u001b[1;33m,\u001b[0m\u001b[1;34m\"Reiniciar\"\u001b[0m\u001b[1;33m]\u001b[0m\u001b[1;33m:\u001b[0m\u001b[1;33m\u001b[0m\u001b[1;33m\u001b[0m\u001b[0m\n\u001b[0;32m    150\u001b[0m             \u001b[1;31m# Actualiza Juego\u001b[0m\u001b[1;33m\u001b[0m\u001b[1;33m\u001b[0m\u001b[1;33m\u001b[0m\u001b[0m\n\u001b[1;32m--> 151\u001b[1;33m             \u001b[0mself\u001b[0m\u001b[1;33m.\u001b[0m\u001b[0mactualiza_juego\u001b[0m\u001b[1;33m(\u001b[0m\u001b[0mdesc\u001b[0m\u001b[1;33m)\u001b[0m\u001b[1;33m\u001b[0m\u001b[1;33m\u001b[0m\u001b[0m\n\u001b[0m\u001b[0;32m    152\u001b[0m         \u001b[1;32melif\u001b[0m \u001b[0mdesc\u001b[0m \u001b[1;33m==\u001b[0m \u001b[1;34m\"Resolver\"\u001b[0m \u001b[1;32mand\u001b[0m \u001b[1;32mnot\u001b[0m \u001b[0mself\u001b[0m\u001b[1;33m.\u001b[0m\u001b[0msearch\u001b[0m \u001b[1;32mis\u001b[0m \u001b[1;32mNone\u001b[0m \u001b[1;32mand\u001b[0m \u001b[1;32mnot\u001b[0m \u001b[0mself\u001b[0m\u001b[1;33m.\u001b[0m\u001b[0mnodes\u001b[0m \u001b[1;32mis\u001b[0m \u001b[1;32mNone\u001b[0m\u001b[1;33m:\u001b[0m\u001b[1;33m\u001b[0m\u001b[1;33m\u001b[0m\u001b[0m\n\u001b[0;32m    153\u001b[0m \u001b[1;33m\u001b[0m\u001b[0m\n",
      "\u001b[1;32m~\\Documents\\Curso 2020-21\\Sistemas Inteligentes\\Clase7-VersionAutomaticaDelJuegoSinSolucion\\MediadorVPedroConBooleanoLlave.py\u001b[0m in \u001b[0;36mactualiza_juego\u001b[1;34m(self, desc)\u001b[0m\n\u001b[0;32m    136\u001b[0m         \u001b[1;32mif\u001b[0m \u001b[1;32mnot\u001b[0m \u001b[0mmov\u001b[0m \u001b[1;33m==\u001b[0m \u001b[1;33m[\u001b[0m\u001b[1;33m]\u001b[0m\u001b[1;33m:\u001b[0m\u001b[1;33m\u001b[0m\u001b[1;33m\u001b[0m\u001b[0m\n\u001b[0;32m    137\u001b[0m \u001b[1;33m\u001b[0m\u001b[0m\n\u001b[1;32m--> 138\u001b[1;33m             \u001b[0mself\u001b[0m\u001b[1;33m.\u001b[0m\u001b[0mstate\u001b[0m\u001b[1;33m=\u001b[0m\u001b[0mself\u001b[0m\u001b[1;33m.\u001b[0m\u001b[0mmodel\u001b[0m\u001b[1;33m.\u001b[0m\u001b[0mmove\u001b[0m\u001b[1;33m(\u001b[0m\u001b[0mself\u001b[0m\u001b[1;33m.\u001b[0m\u001b[0mlevel\u001b[0m\u001b[1;33m,\u001b[0m\u001b[0mself\u001b[0m\u001b[1;33m.\u001b[0m\u001b[0mstate\u001b[0m\u001b[1;33m,\u001b[0m\u001b[0mmov\u001b[0m\u001b[1;33m)\u001b[0m\u001b[1;33m\u001b[0m\u001b[1;33m\u001b[0m\u001b[0m\n\u001b[0m\u001b[0;32m    139\u001b[0m \u001b[1;33m\u001b[0m\u001b[0m\n\u001b[0;32m    140\u001b[0m         \u001b[1;32melse\u001b[0m\u001b[1;33m:\u001b[0m\u001b[1;33m\u001b[0m\u001b[1;33m\u001b[0m\u001b[0m\n",
      "\u001b[1;32m<string>\u001b[0m in \u001b[0;36mmove\u001b[1;34m(level, state, mov)\u001b[0m\n",
      "\u001b[1;31mNameError\u001b[0m: name 'move_piedra' is not defined"
     ]
    }
   ],
   "source": [
    "from IPython.display import display\n",
    "from MediadorVPedroConBooleanoLlave import Mediator\n",
    "from UIJEscapaVPedro import gui\n",
    "\n",
    "import warnings\n",
    "warnings.filterwarnings(\"ignore\")\n",
    "ui = gui(manual = True)\n",
    "\n",
    "med = Mediator.get_instance(modelPath = \"JEscapaManual.ipynb\")   \n",
    "med.register_ui(ui)\n",
    "\n",
    "\n",
    "# Cuando llamo a la función se crean\n",
    "display(ui.get_ui_elements())\n",
    "\n",
    "\n"
   ]
  },
  {
   "cell_type": "code",
   "execution_count": 17,
   "metadata": {},
   "outputs": [
    {
     "name": "stdout",
     "output_type": "stream",
     "text": [
      "[(0, 0, 0, 0, 0, 0, 0), (0, 0, 1, 1, 0, 1, 0), (0, 1, 1, 1, 1, 1, 0), (0, 1, 1, 1, 1, 1, 0), (0, 1, 1, 1, 1, 1, 0), (0, 0, 0, 0, 0, 0, 0)](1, 5)(1, 1)\n"
     ]
    }
   ],
   "source": [
    "print(level)"
   ]
  },
  {
   "cell_type": "code",
   "execution_count": null,
   "metadata": {},
   "outputs": [],
   "source": []
  }
 ],
 "metadata": {
  "kernelspec": {
   "display_name": "Python 3",
   "language": "python",
   "name": "python3"
  },
  "language_info": {
   "codemirror_mode": {
    "name": "ipython",
    "version": 3
   },
   "file_extension": ".py",
   "mimetype": "text/x-python",
   "name": "python",
   "nbconvert_exporter": "python",
   "pygments_lexer": "ipython3",
   "version": "3.8.3"
  },
  "widgets": {
   "state": {
    "042bada4e434454aaa908b25461e3531": {
     "views": [
      {
       "cell_index": 6
      }
     ]
    },
    "70d5bfdaf81b4f57ba5f3ab63745e01f": {
     "views": [
      {
       "cell_index": 6
      }
     ]
    },
    "ae0d245cc8874fb6951e921b363d8c61": {
     "views": [
      {
       "cell_index": 6
      }
     ]
    },
    "cb210eb6fe2d4689bd59da4880bb4db2": {
     "views": [
      {
       "cell_index": 4
      }
     ]
    }
   },
   "version": "1.2.0"
  }
 },
 "nbformat": 4,
 "nbformat_minor": 2
}
